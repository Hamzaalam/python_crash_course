{
 "cells": [
  {
   "cell_type": "code",
   "execution_count": 1,
   "metadata": {
    "collapsed": false
   },
   "outputs": [
    {
     "name": "stdout",
     "output_type": "stream",
     "text": [
      "Hell, I'm a project manager\n"
     ]
    }
   ],
   "source": [
    "#2.1\n",
    "message = \"Hell, I'm a project manager\"\n",
    "print(message)"
   ]
  },
  {
   "cell_type": "code",
   "execution_count": 4,
   "metadata": {
    "collapsed": false
   },
   "outputs": [
    {
     "name": "stdout",
     "output_type": "stream",
     "text": [
      "Hi, i'm a message\n",
      "Hi, i'm new one\n"
     ]
    }
   ],
   "source": [
    "#2.2\n",
    "message = \"Hi, i'm a message\"\n",
    "print(message)\n",
    "message = \"Hi, i'm new one\"\n",
    "print(message)"
   ]
  },
  {
   "cell_type": "code",
   "execution_count": 6,
   "metadata": {
    "collapsed": false
   },
   "outputs": [
    {
     "name": "stdout",
     "output_type": "stream",
     "text": [
      "Hello Hamza, you are here for good coding expercience\n"
     ]
    }
   ],
   "source": [
    "#2.3\n",
    "peronalMessage = \"Hello Hamza, you are here for good coding expercience\"\n",
    "print(peronalMessage)"
   ]
  },
  {
   "cell_type": "code",
   "execution_count": 7,
   "metadata": {
    "collapsed": false
   },
   "outputs": [
    {
     "name": "stdout",
     "output_type": "stream",
     "text": [
      "HAMZA ALAM\n",
      "hamza alam\n",
      "Hamza Alam\n"
     ]
    }
   ],
   "source": [
    "#2.4\n",
    "name = \"hamza alam\"\n",
    "print(name.upper())\n",
    "print(name.lower())\n",
    "print(name.title())"
   ]
  },
  {
   "cell_type": "code",
   "execution_count": 8,
   "metadata": {
    "collapsed": false
   },
   "outputs": [
    {
     "name": "stdout",
     "output_type": "stream",
     "text": [
      "Albert Einstein once said, “A person who never made a mistake never tried anything new.”\n"
     ]
    }
   ],
   "source": [
    "#2.5\n",
    "famousQuote = 'Albert Einstein once said, “A person who never made a mistake never tried anything new.”'\n",
    "print(famousQuote)"
   ]
  },
  {
   "cell_type": "code",
   "execution_count": 11,
   "metadata": {
    "collapsed": false
   },
   "outputs": [
    {
     "name": "stdout",
     "output_type": "stream",
     "text": [
      "Molana Jalaludin Rumii,He was the famous poet, right now also popular all over the world\n"
     ]
    }
   ],
   "source": [
    "#2.6\n",
    "famous_person = \"Molana Jalaludin Rumii\"\n",
    "message = famous_person + \",He was the famous poet, right now also popular all over the world\"\n",
    "print(message)"
   ]
  },
  {
   "cell_type": "code",
   "execution_count": 19,
   "metadata": {
    "collapsed": false
   },
   "outputs": [
    {
     "name": "stdout",
     "output_type": "stream",
     "text": [
      "\tHamza\n",
      "Alam\t\n"
     ]
    }
   ],
   "source": [
    "#2.7\n",
    "name = \"\\tHamza\\nAlam\\t\"\n",
    "print(name)"
   ]
  },
  {
   "cell_type": "code",
   "execution_count": 20,
   "metadata": {
    "collapsed": false
   },
   "outputs": [
    {
     "name": "stdout",
     "output_type": "stream",
     "text": [
      "Hamza\n",
      "Alam\t\n",
      "\tHamza\n",
      "Alam\n",
      "Hamza\n",
      "Alam\n"
     ]
    }
   ],
   "source": [
    "print(name.lstrip())\n",
    "print(name.rstrip())\n",
    "print(name.strip())"
   ]
  },
  {
   "cell_type": "code",
   "execution_count": 22,
   "metadata": {
    "collapsed": false
   },
   "outputs": [
    {
     "name": "stdout",
     "output_type": "stream",
     "text": [
      "8\n",
      "8\n",
      "8.0\n",
      "8\n"
     ]
    }
   ],
   "source": [
    "#2.8\n",
    "print(3+5)\n",
    "print(2*4)\n",
    "print(16/2)\n",
    "print(18-10)"
   ]
  },
  {
   "cell_type": "code",
   "execution_count": 23,
   "metadata": {
    "collapsed": false
   },
   "outputs": [
    {
     "name": "stdout",
     "output_type": "stream",
     "text": [
      "My favourite number is 7\n"
     ]
    }
   ],
   "source": [
    "#2.9\n",
    "fav_number = 7\n",
    "fav_number = \"My favourite number is 7\"\n",
    "print(fav_number)"
   ]
  },
  {
   "cell_type": "code",
   "execution_count": 24,
   "metadata": {
    "collapsed": true
   },
   "outputs": [],
   "source": [
    "#2.10\n",
    "#single line comment"
   ]
  },
  {
   "cell_type": "code",
   "execution_count": null,
   "metadata": {
    "collapsed": true
   },
   "outputs": [],
   "source": [
    "#2.11"
   ]
  }
 ],
 "metadata": {
  "kernelspec": {
   "display_name": "Python [Anaconda3]",
   "language": "python",
   "name": "Python [Anaconda3]"
  },
  "language_info": {
   "codemirror_mode": {
    "name": "ipython",
    "version": 3
   },
   "file_extension": ".py",
   "mimetype": "text/x-python",
   "name": "python",
   "nbconvert_exporter": "python",
   "pygments_lexer": "ipython3",
   "version": "3.5.2"
  }
 },
 "nbformat": 4,
 "nbformat_minor": 0
}
