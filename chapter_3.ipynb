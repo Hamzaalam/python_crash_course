{
 "cells": [
  {
   "cell_type": "code",
   "execution_count": 1,
   "metadata": {
    "collapsed": false
   },
   "outputs": [
    {
     "name": "stdout",
     "output_type": "stream",
     "text": [
      "Hamza\n",
      "kashan\n",
      "farrukh\n"
     ]
    }
   ],
   "source": [
    "#3.1\n",
    "name = ['Hamza','kashan','farrukh']\n",
    "print(name[0])\n",
    "print(name[1])\n",
    "print(name[2])"
   ]
  },
  {
   "cell_type": "code",
   "execution_count": 3,
   "metadata": {
    "collapsed": false
   },
   "outputs": [
    {
     "name": "stdout",
     "output_type": "stream",
     "text": [
      "Hello, How are you? Hamza\n",
      "Hello, How are you? kashan\n",
      "Hello, How are you? farrukh\n"
     ]
    }
   ],
   "source": [
    "#3.2\n",
    "print(\"Hello, How are you? \"+name[0])\n",
    "print(\"Hello, How are you? \"+name[1])\n",
    "print(\"Hello, How are you? \"+name[2])"
   ]
  },
  {
   "cell_type": "code",
   "execution_count": 9,
   "metadata": {
    "collapsed": false
   },
   "outputs": [
    {
     "name": "stdout",
     "output_type": "stream",
     "text": [
      "I would like own a heavy motorcycle\n",
      "I have civic dolphine car\n",
      "bus is the frustrating transportation to travel\n",
      "['motorcycle', 'car', 'train', 'truck', 'bus']\n"
     ]
    }
   ],
   "source": [
    "#3.3\n",
    "transportation = ['motorcycle','car','train','truck','bus']\n",
    "print(\"I would like own a heavy \"+transportation[0])\n",
    "print(\"I have civic dolphine \"+transportation[1])\n",
    "print(transportation[-1]+ \" is the frustrating transportation to travel\")\n",
    "print(transportation)"
   ]
  },
  {
   "cell_type": "code",
   "execution_count": 31,
   "metadata": {
    "collapsed": false
   },
   "outputs": [
    {
     "name": "stdout",
     "output_type": "stream",
     "text": [
      "Hi i just want call you for the dinner Kashan Baig\n",
      "Hi i just want call you for the dinner Nabeel Ali\n",
      "Hi i just want call you for the dinner Ali Ghouri\n",
      "Hi i just want call you for the dinner Saeed Alam\n"
     ]
    }
   ],
   "source": [
    "#3.4\n",
    "invitation = ['Kashan Baig','Nabeel Ali','Ali Ghouri','Saeed Alam']\n",
    "print('Hi i just want call you for the dinner '+invitation[0])\n",
    "print('Hi i just want call you for the dinner '+invitation[1])\n",
    "print('Hi i just want call you for the dinner '+invitation[2])\n",
    "print('Hi i just want call you for the dinner '+invitation[3])"
   ]
  },
  {
   "cell_type": "code",
   "execution_count": 32,
   "metadata": {
    "collapsed": false
   },
   "outputs": [
    {
     "name": "stdout",
     "output_type": "stream",
     "text": [
      "Kashan Baig: i can't able to come.\n",
      "['Nabeel Ali', 'Ali Ghouri', 'Saeed Alam']\n",
      "Ali Ghouri: i will be soo much bussy at that time.\n"
     ]
    }
   ],
   "source": [
    "#3.5\n",
    "print(invitation.pop(0)+\": i can't able to come.\")\n",
    "print(invitation)\n",
    "print(invitation.pop(1)+\": i will be soo much bussy at that time.\")"
   ]
  },
  {
   "cell_type": "code",
   "execution_count": 33,
   "metadata": {
    "collapsed": false
   },
   "outputs": [
    {
     "name": "stdout",
     "output_type": "stream",
     "text": [
      "['Nabeel Ali', 'Saeed Alam']\n"
     ]
    }
   ],
   "source": [
    "print(invitation)"
   ]
  },
  {
   "cell_type": "code",
   "execution_count": 34,
   "metadata": {
    "collapsed": false
   },
   "outputs": [
    {
     "name": "stdout",
     "output_type": "stream",
     "text": [
      "['Hamza Alam', 'Nabeel Ali', 'Saeed Alam']\n",
      "['Hamza Alam', 'Nabeel Ali', 'Haad malik', 'Saeed Alam']\n"
     ]
    }
   ],
   "source": [
    "invitation.insert(0,'Hamza Alam')\n",
    "print(invitation)\n",
    "invitation.insert(2,'Haad malik')\n",
    "print(invitation)"
   ]
  },
  {
   "cell_type": "code",
   "execution_count": 35,
   "metadata": {
    "collapsed": false
   },
   "outputs": [
    {
     "name": "stdout",
     "output_type": "stream",
     "text": [
      "Hi i just want call you for the dinner Hamza Alam\n",
      "Hi i just want call you for the dinner Nabeel Ali\n",
      "Hi i just want call you for the dinner Haad malik\n",
      "Hi i just want call you for the dinner Saeed Alam\n"
     ]
    }
   ],
   "source": [
    "print('Hi i just want call you for the dinner '+invitation[0])\n",
    "print('Hi i just want call you for the dinner '+invitation[1])\n",
    "print('Hi i just want call you for the dinner '+invitation[2])\n",
    "print('Hi i just want call you for the dinner '+invitation[3])"
   ]
  },
  {
   "cell_type": "code",
   "execution_count": 37,
   "metadata": {
    "collapsed": false
   },
   "outputs": [
    {
     "name": "stdout",
     "output_type": "stream",
     "text": [
      "Old invitation list\n",
      "['Hamza Alam', 'Nabeel Ali', 'Haad malik', 'Saeed Alam']\n",
      "['Khalid Intekhaab', 'Hamza Alam', 'Nabeel Ali', 'Haad malik', 'Saeed Alam']\n",
      "['Khalid Intekhaab', 'Hamza Alam', 'Saqib Ali', 'Nabeel Ali', 'Haad malik', 'Saeed Alam']\n",
      "Hi i just want call you for the dinner Khalid Intekhaab\n",
      "Hi i just want call you for the dinner Hamza Alam\n",
      "Hi i just want call you for the dinner Saqib Ali\n",
      "Hi i just want call you for the dinner Nabeel Ali\n",
      "Hi i just want call you for the dinner Haad malik\n",
      "Hi i just want call you for the dinner Saeed Alam\n"
     ]
    }
   ],
   "source": [
    "#3.6\n",
    "print('Old invitation list')\n",
    "print(invitation)\n",
    "#insert in to begning of the list\n",
    "invitation.insert(0,'Khalid Intekhaab')\n",
    "print(invitation)\n",
    "#insert in to middle of the list\n",
    "invitation.insert(2,'Saqib Ali')\n",
    "print(invitation)\n",
    "\n",
    "#print the invitaiton\n",
    "print('Hi i just want call you for the dinner '+invitation[0])\n",
    "print('Hi i just want call you for the dinner '+invitation[1])\n",
    "print('Hi i just want call you for the dinner '+invitation[2])\n",
    "print('Hi i just want call you for the dinner '+invitation[3])\n",
    "print('Hi i just want call you for the dinner '+invitation[4])\n",
    "print('Hi i just want call you for the dinner '+invitation[5])"
   ]
  },
  {
   "cell_type": "code",
   "execution_count": 38,
   "metadata": {
    "collapsed": false
   },
   "outputs": [
    {
     "name": "stdout",
     "output_type": "stream",
     "text": [
      "['Khalid Intekhaab', 'Hamza Alam', 'Saqib Ali', 'Nabeel Ali', 'Haad malik', 'Saeed Alam']\n",
      "Sorry i can't able to invite you for the dinner Saeed Alam\n",
      "Sorry i can't able to invite you for the dinner Haad malik\n",
      "Sorry i can't able to invite you for the dinner Khalid Intekhaab\n",
      "Sorry i can't able to invite you for the dinner Saqib Ali\n",
      "['Hamza Alam', 'Nabeel Ali']\n"
     ]
    },
    {
     "ename": "IndexError",
     "evalue": "list index out of range",
     "output_type": "error",
     "traceback": [
      "\u001b[1;31m---------------------------------------------------------------------------\u001b[0m",
      "\u001b[1;31mIndexError\u001b[0m                                Traceback (most recent call last)",
      "\u001b[1;32m<ipython-input-38-b20e1e49ca9a>\u001b[0m in \u001b[0;36m<module>\u001b[1;34m()\u001b[0m\n\u001b[0;32m     16\u001b[0m \u001b[0mprint\u001b[0m\u001b[1;33m(\u001b[0m\u001b[0minvitation\u001b[0m\u001b[1;33m)\u001b[0m\u001b[1;33m\u001b[0m\u001b[0m\n\u001b[0;32m     17\u001b[0m \u001b[1;33m\u001b[0m\u001b[0m\n\u001b[1;32m---> 18\u001b[1;33m \u001b[0mprint\u001b[0m\u001b[1;33m(\u001b[0m\u001b[1;34m'you are invited for the '\u001b[0m\u001b[1;33m+\u001b[0m\u001b[0minvitation\u001b[0m\u001b[1;33m[\u001b[0m\u001b[1;36m3\u001b[0m\u001b[1;33m]\u001b[0m\u001b[1;33m)\u001b[0m\u001b[1;33m\u001b[0m\u001b[0m\n\u001b[0m\u001b[0;32m     19\u001b[0m \u001b[0mprint\u001b[0m\u001b[1;33m(\u001b[0m\u001b[1;34m'you are invited for the '\u001b[0m\u001b[1;33m+\u001b[0m\u001b[0minvitation\u001b[0m\u001b[1;33m[\u001b[0m\u001b[1;36m4\u001b[0m\u001b[1;33m]\u001b[0m\u001b[1;33m)\u001b[0m\u001b[1;33m\u001b[0m\u001b[0m\n",
      "\u001b[1;31mIndexError\u001b[0m: list index out of range"
     ]
    }
   ],
   "source": [
    "#3.7\n",
    "print(invitation)\n",
    "\n",
    "poped_person = invitation.pop()\n",
    "print(\"Sorry i can't able to invite you for the dinner \"+ poped_person)\n",
    "\n",
    "poped_person = invitation.pop()\n",
    "print(\"Sorry i can't able to invite you for the dinner \"+ poped_person)\n",
    "\n",
    "poped_person = invitation.pop(0)\n",
    "print(\"Sorry i can't able to invite you for the dinner \"+ poped_person)\n",
    "\n",
    "poped_person = invitation.pop(1)\n",
    "print(\"Sorry i can't able to invite you for the dinner \"+ poped_person)\n",
    "\n",
    "print(invitation)"
   ]
  },
  {
   "cell_type": "code",
   "execution_count": 39,
   "metadata": {
    "collapsed": false
   },
   "outputs": [
    {
     "name": "stdout",
     "output_type": "stream",
     "text": [
      "you are invited for the Hamza Alam\n",
      "you are invited for the Nabeel Ali\n"
     ]
    }
   ],
   "source": [
    "print('you are invited for the '+invitation[0]),\n",
    "print('you are invited for the '+invitation[1])"
   ]
  },
  {
   "cell_type": "code",
   "execution_count": 40,
   "metadata": {
    "collapsed": false
   },
   "outputs": [
    {
     "name": "stdout",
     "output_type": "stream",
     "text": [
      "[]\n"
     ]
    }
   ],
   "source": [
    "del invitation[0]\n",
    "del invitation[0]\n",
    "print(invitation)"
   ]
  },
  {
   "cell_type": "code",
   "execution_count": 43,
   "metadata": {
    "collapsed": false
   },
   "outputs": [
    {
     "name": "stdout",
     "output_type": "stream",
     "text": [
      "The Original Order: \n",
      "['torronto', 'sydney', 'tokyo', 'mosco', 'california']\n",
      "The permanent sorted order Order: \n",
      "['california', 'mosco', 'sydney', 'tokyo', 'torronto']\n"
     ]
    }
   ],
   "source": [
    "#3.8\n",
    "places =['torronto','sydney','tokyo','mosco','california']\n",
    "print(\"The Original Order: \")\n",
    "print(places)\n",
    "places.sort()\n",
    "print(\"The permanent sorted order Order: \")\n",
    "print(places)"
   ]
  },
  {
   "cell_type": "code",
   "execution_count": 46,
   "metadata": {
    "collapsed": false
   },
   "outputs": [
    {
     "name": "stdout",
     "output_type": "stream",
     "text": [
      "The Temporary sorted order: \n",
      "['california', 'mosco', 'sydney', 'tokyo', 'torronto']\n",
      "The original sorted order: \n",
      "['torronto', 'sydney', 'tokyo', 'mosco', 'california']\n"
     ]
    }
   ],
   "source": [
    "places =['torronto','sydney','tokyo','mosco','california']\n",
    "print(\"The Temporary sorted order: \")\n",
    "print(sorted(places))\n",
    "print(\"The original order: \")\n",
    "print(places)"
   ]
  },
  {
   "cell_type": "code",
   "execution_count": 59,
   "metadata": {
    "collapsed": false
   },
   "outputs": [
    {
     "name": "stdout",
     "output_type": "stream",
     "text": [
      "The Temporary sorted reverse order: \n",
      "['torronto', 'tokyo', 'sydney', 'mosco', 'california']\n",
      "The original order: \n",
      "['torronto', 'sydney', 'tokyo', 'mosco', 'california']\n"
     ]
    }
   ],
   "source": [
    "print(\"The Temporary sorted reverse order: \")\n",
    "print(sorted(places,reverse=True))\n",
    "\n",
    "print(\"The original order: \")\n",
    "print(places)"
   ]
  },
  {
   "cell_type": "code",
   "execution_count": 61,
   "metadata": {
    "collapsed": false
   },
   "outputs": [
    {
     "name": "stdout",
     "output_type": "stream",
     "text": [
      "['torronto', 'sydney', 'tokyo', 'mosco', 'california']\n",
      "['california', 'mosco', 'tokyo', 'sydney', 'torronto']\n"
     ]
    }
   ],
   "source": [
    "places.reverse()\n",
    "print(places)\n",
    "places.reverse()\n",
    "print(places)"
   ]
  },
  {
   "cell_type": "code",
   "execution_count": 62,
   "metadata": {
    "collapsed": false
   },
   "outputs": [
    {
     "name": "stdout",
     "output_type": "stream",
     "text": [
      "['california', 'mosco', 'sydney', 'tokyo', 'torronto']\n"
     ]
    }
   ],
   "source": [
    "places.sort()\n",
    "print(places)"
   ]
  },
  {
   "cell_type": "code",
   "execution_count": 64,
   "metadata": {
    "collapsed": false
   },
   "outputs": [
    {
     "name": "stdout",
     "output_type": "stream",
     "text": [
      "['torronto', 'tokyo', 'sydney', 'mosco', 'california']\n"
     ]
    }
   ],
   "source": [
    "places.sort(reverse=True)\n",
    "print(places)"
   ]
  },
  {
   "cell_type": "code",
   "execution_count": 70,
   "metadata": {
    "collapsed": false
   },
   "outputs": [
    {
     "name": "stdout",
     "output_type": "stream",
     "text": [
      "The number of people invited for the dinner 4\n"
     ]
    }
   ],
   "source": [
    "invitation = ['Kashan Baig','Nabeel Ali','Ali Ghouri','Saeed Alam']\n",
    "print(\"The number of people invited for the dinner \"+str(len(invitation)))"
   ]
  },
  {
   "cell_type": "code",
   "execution_count": null,
   "metadata": {
    "collapsed": true
   },
   "outputs": [],
   "source": []
  }
 ],
 "metadata": {
  "kernelspec": {
   "display_name": "Python [Anaconda3]",
   "language": "python",
   "name": "Python [Anaconda3]"
  },
  "language_info": {
   "codemirror_mode": {
    "name": "ipython",
    "version": 3
   },
   "file_extension": ".py",
   "mimetype": "text/x-python",
   "name": "python",
   "nbconvert_exporter": "python",
   "pygments_lexer": "ipython3",
   "version": "3.5.2"
  }
 },
 "nbformat": 4,
 "nbformat_minor": 0
}
