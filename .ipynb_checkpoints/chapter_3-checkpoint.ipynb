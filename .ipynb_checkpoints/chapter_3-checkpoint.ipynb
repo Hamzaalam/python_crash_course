{
 "cells": [
  {
   "cell_type": "code",
   "execution_count": 1,
   "metadata": {
    "collapsed": false
   },
   "outputs": [
    {
     "name": "stdout",
     "output_type": "stream",
     "text": [
      "Hamza\n",
      "kashan\n",
      "farrukh\n"
     ]
    }
   ],
   "source": [
    "#3.1\n",
    "name = ['Hamza','kashan','farrukh']\n",
    "print(name[0])\n",
    "print(name[1])\n",
    "print(name[2])"
   ]
  },
  {
   "cell_type": "code",
   "execution_count": 3,
   "metadata": {
    "collapsed": false
   },
   "outputs": [
    {
     "name": "stdout",
     "output_type": "stream",
     "text": [
      "Hello, How are you? Hamza\n",
      "Hello, How are you? kashan\n",
      "Hello, How are you? farrukh\n"
     ]
    }
   ],
   "source": [
    "#3.2\n",
    "print(\"Hello, How are you? \"+name[0])\n",
    "print(\"Hello, How are you? \"+name[1])\n",
    "print(\"Hello, How are you? \"+name[2])"
   ]
  },
  {
   "cell_type": "code",
   "execution_count": 9,
   "metadata": {
    "collapsed": false
   },
   "outputs": [
    {
     "name": "stdout",
     "output_type": "stream",
     "text": [
      "I would like own a heavy motorcycle\n",
      "I have civic dolphine car\n",
      "bus is the frustrating transportation to travel\n",
      "['motorcycle', 'car', 'train', 'truck', 'bus']\n"
     ]
    }
   ],
   "source": [
    "#3.3\n",
    "transportation = ['motorcycle','car','train','truck','bus']\n",
    "print(\"I would like own a heavy \"+transportation[0])\n",
    "print(\"I have civic dolphine \"+transportation[1])\n",
    "print(transportation[-1]+ \" is the frustrating transportation to travel\")\n",
    "print(transportation)"
   ]
  },
  {
   "cell_type": "code",
   "execution_count": 31,
   "metadata": {
    "collapsed": false
   },
   "outputs": [
    {
     "name": "stdout",
     "output_type": "stream",
     "text": [
      "Hi i just want call you for the dinner Kashan Baig\n",
      "Hi i just want call you for the dinner Nabeel Ali\n",
      "Hi i just want call you for the dinner Ali Ghouri\n",
      "Hi i just want call you for the dinner Saeed Alam\n"
     ]
    }
   ],
   "source": [
    "#3.4\n",
    "invitation = ['Kashan Baig','Nabeel Ali','Ali Ghouri','Saeed Alam']\n",
    "print('Hi i just want call you for the dinner '+invitation[0])\n",
    "print('Hi i just want call you for the dinner '+invitation[1])\n",
    "print('Hi i just want call you for the dinner '+invitation[2])\n",
    "print('Hi i just want call you for the dinner '+invitation[3])"
   ]
  },
  {
   "cell_type": "code",
   "execution_count": 32,
   "metadata": {
    "collapsed": false
   },
   "outputs": [
    {
     "name": "stdout",
     "output_type": "stream",
     "text": [
      "Kashan Baig: i can't able to come.\n",
      "['Nabeel Ali', 'Ali Ghouri', 'Saeed Alam']\n",
      "Ali Ghouri: i will be soo much bussy at that time.\n"
     ]
    }
   ],
   "source": [
    "#3.5\n",
    "print(invitation.pop(0)+\": i can't able to come.\")\n",
    "print(invitation)\n",
    "print(invitation.pop(1)+\": i will be soo much bussy at that time.\")"
   ]
  },
  {
   "cell_type": "code",
   "execution_count": 33,
   "metadata": {
    "collapsed": false
   },
   "outputs": [
    {
     "name": "stdout",
     "output_type": "stream",
     "text": [
      "['Nabeel Ali', 'Saeed Alam']\n"
     ]
    }
   ],
   "source": [
    "print(invitation)"
   ]
  },
  {
   "cell_type": "code",
   "execution_count": 34,
   "metadata": {
    "collapsed": false
   },
   "outputs": [
    {
     "name": "stdout",
     "output_type": "stream",
     "text": [
      "['Hamza Alam', 'Nabeel Ali', 'Saeed Alam']\n",
      "['Hamza Alam', 'Nabeel Ali', 'Haad malik', 'Saeed Alam']\n"
     ]
    }
   ],
   "source": [
    "invitation.insert(0,'Hamza Alam')\n",
    "print(invitation)\n",
    "invitation.insert(2,'Haad malik')\n",
    "print(invitation)"
   ]
  },
  {
   "cell_type": "code",
   "execution_count": 35,
   "metadata": {
    "collapsed": false
   },
   "outputs": [
    {
     "name": "stdout",
     "output_type": "stream",
     "text": [
      "Hi i just want call you for the dinner Hamza Alam\n",
      "Hi i just want call you for the dinner Nabeel Ali\n",
      "Hi i just want call you for the dinner Haad malik\n",
      "Hi i just want call you for the dinner Saeed Alam\n"
     ]
    }
   ],
   "source": [
    "print('Hi i just want call you for the dinner '+invitation[0])\n",
    "print('Hi i just want call you for the dinner '+invitation[1])\n",
    "print('Hi i just want call you for the dinner '+invitation[2])\n",
    "print('Hi i just want call you for the dinner '+invitation[3])"
   ]
  },
  {
   "cell_type": "code",
   "execution_count": 37,
   "metadata": {
    "collapsed": false
   },
   "outputs": [
    {
     "name": "stdout",
     "output_type": "stream",
     "text": [
      "Old invitation list\n",
      "['Hamza Alam', 'Nabeel Ali', 'Haad malik', 'Saeed Alam']\n",
      "['Khalid Intekhaab', 'Hamza Alam', 'Nabeel Ali', 'Haad malik', 'Saeed Alam']\n",
      "['Khalid Intekhaab', 'Hamza Alam', 'Saqib Ali', 'Nabeel Ali', 'Haad malik', 'Saeed Alam']\n",
      "Hi i just want call you for the dinner Khalid Intekhaab\n",
      "Hi i just want call you for the dinner Hamza Alam\n",
      "Hi i just want call you for the dinner Saqib Ali\n",
      "Hi i just want call you for the dinner Nabeel Ali\n",
      "Hi i just want call you for the dinner Haad malik\n",
      "Hi i just want call you for the dinner Saeed Alam\n"
     ]
    }
   ],
   "source": [
    "#3.6\n",
    "print('Old invitation list')\n",
    "print(invitation)\n",
    "#insert in to begning of the list\n",
    "invitation.insert(0,'Khalid Intekhaab')\n",
    "print(invitation)\n",
    "#insert in to middle of the list\n",
    "invitation.insert(2,'Saqib Ali')\n",
    "print(invitation)\n",
    "\n",
    "#print the invitaiton\n",
    "print('Hi i just want call you for the dinner '+invitation[0])\n",
    "print('Hi i just want call you for the dinner '+invitation[1])\n",
    "print('Hi i just want call you for the dinner '+invitation[2])\n",
    "print('Hi i just want call you for the dinner '+invitation[3])\n",
    "print('Hi i just want call you for the dinner '+invitation[4])\n",
    "print('Hi i just want call you for the dinner '+invitation[5])"
   ]
  },
  {
   "cell_type": "code",
   "execution_count": null,
   "metadata": {
    "collapsed": true
   },
   "outputs": [],
   "source": [
    "#3.7\n",
    "print(invitation)\n",
    "\n",
    "poped_person = invitation.pop()\n",
    "print(\"Sorry i can't able to invite you for the dinner \"+ poped_person)\n",
    "\n",
    "poped_person = invitation.pop()\n",
    "print(\"Sorry i can't able to invite you for the dinner \"+ poped_person)\n",
    "\n",
    "poped_person = invitation.pop(0)\n",
    "print(\"Sorry i can't able to invite you for the dinner \"+ poped_person)\n",
    "\n",
    "poped_person = invitation.pop(1)\n",
    "print(\"Sorry i can't able to invite you for the dinner \"+ poped_person)\n",
    "\n",
    "print(invitation)\n",
    "\n",
    "print('you are invited for the '+invitation[3])\n",
    "print('you are invited for the '+invitation[4])"
   ]
  }
 ],
 "metadata": {
  "kernelspec": {
   "display_name": "Python [Anaconda3]",
   "language": "python",
   "name": "Python [Anaconda3]"
  },
  "language_info": {
   "codemirror_mode": {
    "name": "ipython",
    "version": 3
   },
   "file_extension": ".py",
   "mimetype": "text/x-python",
   "name": "python",
   "nbconvert_exporter": "python",
   "pygments_lexer": "ipython3",
   "version": "3.5.2"
  }
 },
 "nbformat": 4,
 "nbformat_minor": 0
}
